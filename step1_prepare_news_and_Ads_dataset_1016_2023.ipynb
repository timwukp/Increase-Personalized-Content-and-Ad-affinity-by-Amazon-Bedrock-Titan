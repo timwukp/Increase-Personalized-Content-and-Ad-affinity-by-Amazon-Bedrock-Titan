{
 "cells": [
  {
   "cell_type": "markdown",
   "id": "f9de26bc-8c28-404a-902d-8d1275bbbd27",
   "metadata": {},
   "source": [
    "# Data Preparation\n",
    "\n",
    "Note: This notebook was tested in Amazon SageMaker Studio with Python 3 (Data Science 3.0, Python3) kernel, suggest 2vCPU and 8GiB memory. \n",
    "\n",
    "##### Here, we use two datasets from kaggle, it need install kaggle API first, please refer the guideline https://github.com/Kaggle/kaggle-api\n",
    "##### Download the digital news and content dataset from kaggle by command 'kaggle datasets download -d benjaminawd/new-york-times-articles-comments-2020'\n",
    "##### Download the ads dataset from kaggle by command 'kaggle datasets download -d sachsene/amazons-advertisements'\n",
    "##### Save the two zipfiles in your current notebook folder\n",
    "\n",
    "#### We will prepare two datasets\n",
    "1. News/articles dataset\n",
    "2. advertisements dataset\n"
   ]
  },
  {
   "cell_type": "code",
   "execution_count": null,
   "id": "1c733a64-1689-459d-a463-7a43ec5f7e82",
   "metadata": {},
   "outputs": [],
   "source": [
    "import zipfile\n",
    "\n",
    "zip_file_path = 'new-york-times-articles-comments-2020.zip'\n",
    "extracted_folder_path = 'new-york-times-articles-comments-2020'\n",
    "\n",
    "# Open the zip file\n",
    "with zipfile.ZipFile(zip_file_path, 'r') as zip_ref:\n",
    "    # Extract all the contents of zip file in current directory\n",
    "    zip_ref.extractall(extracted_folder_path)\n",
    "\n",
    "print(f\"Successfully extracted the contents to {extracted_folder_path}.\")\n"
   ]
  },
  {
   "cell_type": "code",
   "execution_count": 8,
   "id": "6d4d0421-6df7-4c68-8b5b-bbb38694f267",
   "metadata": {
    "tags": []
   },
   "outputs": [
    {
     "name": "stdout",
     "output_type": "stream",
     "text": [
      "Successfully extracted the contents to amazons-advertisements.\n"
     ]
    }
   ],
   "source": [
    "zip_file_path = 'amazons-advertisements.zip'\n",
    "extracted_folder_path = 'amazons-advertisements'\n",
    "\n",
    "# Open the zip file\n",
    "with zipfile.ZipFile(zip_file_path, 'r') as zip_ref:\n",
    "    # Extract all the contents of zip file in current directory\n",
    "    zip_ref.extractall(extracted_folder_path)\n",
    "\n",
    "print(f\"Successfully extracted the contents to {extracted_folder_path}.\")"
   ]
  },
  {
   "cell_type": "markdown",
   "id": "ecfdff55-7e5e-4248-ac8c-143e37c983bf",
   "metadata": {},
   "source": [
    "# Prepare News/articles dataset"
   ]
  },
  {
   "cell_type": "code",
   "execution_count": 3,
   "id": "78a02464-ebbe-4b10-8257-2f49ff7a1689",
   "metadata": {
    "tags": []
   },
   "outputs": [],
   "source": [
    "import pandas as pd\n",
    "\n",
    "# Specify the path to your CSV file\n",
    "csv_file_path = \"new-york-times-articles-comments-2020/nyt-articles-2020.csv\"\n",
    "\n",
    "# Load the CSV file into a DataFrame\n",
    "df_nyt_articles_2020= pd.read_csv(csv_file_path)\n",
    "\n",
    "\n"
   ]
  },
  {
   "cell_type": "code",
   "execution_count": 18,
   "id": "5b862822-6610-41a7-9df6-ecb72e6783e3",
   "metadata": {
    "tags": []
   },
   "outputs": [
    {
     "data": {
      "text/html": [
       "<div>\n",
       "<style scoped>\n",
       "    .dataframe tbody tr th:only-of-type {\n",
       "        vertical-align: middle;\n",
       "    }\n",
       "\n",
       "    .dataframe tbody tr th {\n",
       "        vertical-align: top;\n",
       "    }\n",
       "\n",
       "    .dataframe thead th {\n",
       "        text-align: right;\n",
       "    }\n",
       "</style>\n",
       "<table border=\"1\" class=\"dataframe\">\n",
       "  <thead>\n",
       "    <tr style=\"text-align: right;\">\n",
       "      <th></th>\n",
       "      <th>newsdesk</th>\n",
       "      <th>section</th>\n",
       "      <th>subsection</th>\n",
       "      <th>material</th>\n",
       "      <th>headline</th>\n",
       "      <th>abstract</th>\n",
       "      <th>keywords</th>\n",
       "      <th>word_count</th>\n",
       "      <th>pub_date</th>\n",
       "      <th>n_comments</th>\n",
       "      <th>uniqueID</th>\n",
       "    </tr>\n",
       "  </thead>\n",
       "  <tbody>\n",
       "    <tr>\n",
       "      <th>0</th>\n",
       "      <td>Editorial</td>\n",
       "      <td>Opinion</td>\n",
       "      <td>Unknown</td>\n",
       "      <td>Editorial</td>\n",
       "      <td>Protect Veterans From Fraud</td>\n",
       "      <td>Congress could do much more to protect America...</td>\n",
       "      <td>['Veterans', 'For-Profit Schools', 'Financial ...</td>\n",
       "      <td>680</td>\n",
       "      <td>2020-01-01 00:18:54+00:00</td>\n",
       "      <td>186</td>\n",
       "      <td>nyt://article/69a7090b-9f36-569e-b5ab-b0ba5bb3...</td>\n",
       "    </tr>\n",
       "    <tr>\n",
       "      <th>1</th>\n",
       "      <td>Games</td>\n",
       "      <td>Crosswords &amp; Games</td>\n",
       "      <td>Unknown</td>\n",
       "      <td>News</td>\n",
       "      <td>‘It’s Green and Slimy’</td>\n",
       "      <td>Christina Iverson and Jeff Chen ring in the Ne...</td>\n",
       "      <td>['Crossword Puzzles']</td>\n",
       "      <td>931</td>\n",
       "      <td>2020-01-01 03:00:10+00:00</td>\n",
       "      <td>257</td>\n",
       "      <td>nyt://article/9edddb54-0aa3-5835-a833-d311a76f...</td>\n",
       "    </tr>\n",
       "    <tr>\n",
       "      <th>2</th>\n",
       "      <td>Science</td>\n",
       "      <td>Science</td>\n",
       "      <td>Unknown</td>\n",
       "      <td>News</td>\n",
       "      <td>Meteor Showers in 2020 That Will Light Up Nigh...</td>\n",
       "      <td>All year long, Earth passes through streams of...</td>\n",
       "      <td>['Meteors and Meteorites', 'Space and Astronom...</td>\n",
       "      <td>1057</td>\n",
       "      <td>2020-01-01 05:00:08+00:00</td>\n",
       "      <td>6</td>\n",
       "      <td>nyt://article/04bc90f0-b20b-511c-b5bb-3ce13194...</td>\n",
       "    </tr>\n",
       "    <tr>\n",
       "      <th>3</th>\n",
       "      <td>Science</td>\n",
       "      <td>Science</td>\n",
       "      <td>Unknown</td>\n",
       "      <td>Interactive Feature</td>\n",
       "      <td>Sync your calendar with the solar system</td>\n",
       "      <td>Never miss an eclipse, a meteor shower, a rock...</td>\n",
       "      <td>['Space and Astronomy', 'Moon', 'Eclipses', 'S...</td>\n",
       "      <td>0</td>\n",
       "      <td>2020-01-01 05:00:12+00:00</td>\n",
       "      <td>2</td>\n",
       "      <td>nyt://interactive/5b58d876-9351-50af-9b41-a312...</td>\n",
       "    </tr>\n",
       "    <tr>\n",
       "      <th>4</th>\n",
       "      <td>Science</td>\n",
       "      <td>Science</td>\n",
       "      <td>Unknown</td>\n",
       "      <td>News</td>\n",
       "      <td>Rocket Launches, Trips to Mars and More 2020 S...</td>\n",
       "      <td>A year full of highs and lows in space just en...</td>\n",
       "      <td>['Space and Astronomy', 'Private Spaceflight',...</td>\n",
       "      <td>1156</td>\n",
       "      <td>2020-01-01 05:02:38+00:00</td>\n",
       "      <td>25</td>\n",
       "      <td>nyt://article/bd8647b3-8ec6-50aa-95cf-2b81ed12...</td>\n",
       "    </tr>\n",
       "  </tbody>\n",
       "</table>\n",
       "</div>"
      ],
      "text/plain": [
       "    newsdesk             section subsection             material  \\\n",
       "0  Editorial             Opinion    Unknown            Editorial   \n",
       "1      Games  Crosswords & Games    Unknown                 News   \n",
       "2    Science             Science    Unknown                 News   \n",
       "3    Science             Science    Unknown  Interactive Feature   \n",
       "4    Science             Science    Unknown                 News   \n",
       "\n",
       "                                            headline  \\\n",
       "0                        Protect Veterans From Fraud   \n",
       "1                             ‘It’s Green and Slimy’   \n",
       "2  Meteor Showers in 2020 That Will Light Up Nigh...   \n",
       "3           Sync your calendar with the solar system   \n",
       "4  Rocket Launches, Trips to Mars and More 2020 S...   \n",
       "\n",
       "                                            abstract  \\\n",
       "0  Congress could do much more to protect America...   \n",
       "1  Christina Iverson and Jeff Chen ring in the Ne...   \n",
       "2  All year long, Earth passes through streams of...   \n",
       "3  Never miss an eclipse, a meteor shower, a rock...   \n",
       "4  A year full of highs and lows in space just en...   \n",
       "\n",
       "                                            keywords  word_count  \\\n",
       "0  ['Veterans', 'For-Profit Schools', 'Financial ...         680   \n",
       "1                              ['Crossword Puzzles']         931   \n",
       "2  ['Meteors and Meteorites', 'Space and Astronom...        1057   \n",
       "3  ['Space and Astronomy', 'Moon', 'Eclipses', 'S...           0   \n",
       "4  ['Space and Astronomy', 'Private Spaceflight',...        1156   \n",
       "\n",
       "                    pub_date  n_comments  \\\n",
       "0  2020-01-01 00:18:54+00:00         186   \n",
       "1  2020-01-01 03:00:10+00:00         257   \n",
       "2  2020-01-01 05:00:08+00:00           6   \n",
       "3  2020-01-01 05:00:12+00:00           2   \n",
       "4  2020-01-01 05:02:38+00:00          25   \n",
       "\n",
       "                                            uniqueID  \n",
       "0  nyt://article/69a7090b-9f36-569e-b5ab-b0ba5bb3...  \n",
       "1  nyt://article/9edddb54-0aa3-5835-a833-d311a76f...  \n",
       "2  nyt://article/04bc90f0-b20b-511c-b5bb-3ce13194...  \n",
       "3  nyt://interactive/5b58d876-9351-50af-9b41-a312...  \n",
       "4  nyt://article/bd8647b3-8ec6-50aa-95cf-2b81ed12...  "
      ]
     },
     "execution_count": 18,
     "metadata": {},
     "output_type": "execute_result"
    }
   ],
   "source": [
    "df_nyt_articles_2020.head()"
   ]
  },
  {
   "cell_type": "code",
   "execution_count": 5,
   "id": "23a84c72-c170-46ac-a406-de7f1e8e5ca9",
   "metadata": {
    "tags": []
   },
   "outputs": [
    {
     "name": "stdout",
     "output_type": "stream",
     "text": [
      "<class 'pandas.core.frame.DataFrame'>\n",
      "RangeIndex: 16787 entries, 0 to 16786\n",
      "Data columns (total 11 columns):\n",
      " #   Column      Non-Null Count  Dtype \n",
      "---  ------      --------------  ----- \n",
      " 0   newsdesk    16787 non-null  object\n",
      " 1   section     16787 non-null  object\n",
      " 2   subsection  5693 non-null   object\n",
      " 3   material    16787 non-null  object\n",
      " 4   headline    16787 non-null  object\n",
      " 5   abstract    16784 non-null  object\n",
      " 6   keywords    16786 non-null  object\n",
      " 7   word_count  16787 non-null  int64 \n",
      " 8   pub_date    16787 non-null  object\n",
      " 9   n_comments  16787 non-null  int64 \n",
      " 10  uniqueID    16787 non-null  object\n",
      "dtypes: int64(2), object(9)\n",
      "memory usage: 1.4+ MB\n"
     ]
    }
   ],
   "source": [
    "df_nyt_articles_2020.info()"
   ]
  },
  {
   "cell_type": "code",
   "execution_count": 13,
   "id": "aa5e0864-cdd1-4eb6-ab22-771e1a489ecf",
   "metadata": {
    "tags": []
   },
   "outputs": [
    {
     "data": {
      "text/plain": [
       "newsdesk          0\n",
       "section           0\n",
       "subsection    11094\n",
       "material          0\n",
       "headline          0\n",
       "abstract          3\n",
       "keywords          1\n",
       "word_count        0\n",
       "pub_date          0\n",
       "n_comments        0\n",
       "uniqueID          0\n",
       "dtype: int64"
      ]
     },
     "execution_count": 13,
     "metadata": {},
     "output_type": "execute_result"
    }
   ],
   "source": [
    "# Check for missing data\n",
    "missing_data = df_nyt_articles_2020.isnull().sum()\n",
    "\n",
    "# Display columns with missing data and their respective counts\n",
    "missing_data.head(20)\n"
   ]
  },
  {
   "cell_type": "code",
   "execution_count": 14,
   "id": "44fda98e-76d7-43ae-b39a-2d940de12bb2",
   "metadata": {
    "tags": []
   },
   "outputs": [],
   "source": [
    "df_nyt_articles_2020['subsection'].fillna('Unknown', inplace=True)\n"
   ]
  },
  {
   "cell_type": "code",
   "execution_count": 15,
   "id": "81f6fd9f-3490-4744-990a-937ebd1fbab0",
   "metadata": {
    "tags": []
   },
   "outputs": [
    {
     "data": {
      "text/plain": [
       "newsdesk      0\n",
       "section       0\n",
       "subsection    0\n",
       "material      0\n",
       "headline      0\n",
       "abstract      3\n",
       "keywords      1\n",
       "word_count    0\n",
       "pub_date      0\n",
       "n_comments    0\n",
       "uniqueID      0\n",
       "dtype: int64"
      ]
     },
     "execution_count": 15,
     "metadata": {},
     "output_type": "execute_result"
    }
   ],
   "source": [
    "# Check for missing data\n",
    "missing_data = df_nyt_articles_2020.isnull().sum()\n",
    "\n",
    "# Display columns with missing data and their respective counts\n",
    "missing_data.head(20)"
   ]
  },
  {
   "cell_type": "code",
   "execution_count": 16,
   "id": "19ba5169-d044-47c7-b4a4-df6919ee23b2",
   "metadata": {
    "tags": []
   },
   "outputs": [],
   "source": [
    "df_nyt_articles_2020['abstract'].fillna('Unknown', inplace=True)\n",
    "df_nyt_articles_2020['keywords'].fillna('Unknown', inplace=True)\n"
   ]
  },
  {
   "cell_type": "code",
   "execution_count": 17,
   "id": "9dad2f9e-fc59-473b-abf2-3199a460d539",
   "metadata": {
    "tags": []
   },
   "outputs": [
    {
     "data": {
      "text/plain": [
       "newsdesk      0\n",
       "section       0\n",
       "subsection    0\n",
       "material      0\n",
       "headline      0\n",
       "abstract      0\n",
       "keywords      0\n",
       "word_count    0\n",
       "pub_date      0\n",
       "n_comments    0\n",
       "uniqueID      0\n",
       "dtype: int64"
      ]
     },
     "execution_count": 17,
     "metadata": {},
     "output_type": "execute_result"
    }
   ],
   "source": [
    "# Check for missing data\n",
    "missing_data = df_nyt_articles_2020.isnull().sum()\n",
    "\n",
    "# Display columns with missing data and their respective counts\n",
    "missing_data.head(20)"
   ]
  },
  {
   "cell_type": "code",
   "execution_count": 30,
   "id": "10e32ad8-5bdb-445d-a33d-4955814f9bee",
   "metadata": {
    "tags": []
   },
   "outputs": [],
   "source": [
    "import pandas as pd\n",
    "import numpy as np\n",
    "\n",
    "# Add a new column 'np_array' filled with NumPy arrays of 0s\n",
    "df_nyt_articles_2020['np_array'] = np.zeros(df_nyt_articles_2020.shape[0], dtype=object)"
   ]
  },
  {
   "cell_type": "code",
   "execution_count": 31,
   "id": "019940f2-9505-4cdc-a865-8353c5c55949",
   "metadata": {
    "tags": []
   },
   "outputs": [
    {
     "name": "stdout",
     "output_type": "stream",
     "text": [
      "<class 'pandas.core.frame.DataFrame'>\n",
      "RangeIndex: 16787 entries, 0 to 16786\n",
      "Data columns (total 12 columns):\n",
      " #   Column      Non-Null Count  Dtype \n",
      "---  ------      --------------  ----- \n",
      " 0   newsdesk    16787 non-null  object\n",
      " 1   section     16787 non-null  object\n",
      " 2   subsection  16787 non-null  object\n",
      " 3   material    16787 non-null  object\n",
      " 4   headline    16787 non-null  object\n",
      " 5   abstract    16787 non-null  object\n",
      " 6   keywords    16787 non-null  object\n",
      " 7   word_count  16787 non-null  int64 \n",
      " 8   pub_date    16787 non-null  object\n",
      " 9   n_comments  16787 non-null  int64 \n",
      " 10  uniqueID    16787 non-null  object\n",
      " 11  np_array    16787 non-null  object\n",
      "dtypes: int64(2), object(10)\n",
      "memory usage: 1.5+ MB\n"
     ]
    }
   ],
   "source": [
    "df_nyt_articles_2020.info()"
   ]
  },
  {
   "cell_type": "code",
   "execution_count": 32,
   "id": "7d7dc238-e241-46ee-b687-ceb33696bb21",
   "metadata": {
    "tags": []
   },
   "outputs": [
    {
     "data": {
      "text/html": [
       "<div>\n",
       "<style scoped>\n",
       "    .dataframe tbody tr th:only-of-type {\n",
       "        vertical-align: middle;\n",
       "    }\n",
       "\n",
       "    .dataframe tbody tr th {\n",
       "        vertical-align: top;\n",
       "    }\n",
       "\n",
       "    .dataframe thead th {\n",
       "        text-align: right;\n",
       "    }\n",
       "</style>\n",
       "<table border=\"1\" class=\"dataframe\">\n",
       "  <thead>\n",
       "    <tr style=\"text-align: right;\">\n",
       "      <th></th>\n",
       "      <th>newsdesk</th>\n",
       "      <th>section</th>\n",
       "      <th>subsection</th>\n",
       "      <th>material</th>\n",
       "      <th>headline</th>\n",
       "      <th>abstract</th>\n",
       "      <th>keywords</th>\n",
       "      <th>word_count</th>\n",
       "      <th>pub_date</th>\n",
       "      <th>n_comments</th>\n",
       "      <th>uniqueID</th>\n",
       "      <th>np_array</th>\n",
       "    </tr>\n",
       "  </thead>\n",
       "  <tbody>\n",
       "    <tr>\n",
       "      <th>0</th>\n",
       "      <td>Editorial</td>\n",
       "      <td>Opinion</td>\n",
       "      <td>Unknown</td>\n",
       "      <td>Editorial</td>\n",
       "      <td>Protect Veterans From Fraud</td>\n",
       "      <td>Congress could do much more to protect America...</td>\n",
       "      <td>['Veterans', 'For-Profit Schools', 'Financial ...</td>\n",
       "      <td>680</td>\n",
       "      <td>2020-01-01 00:18:54+00:00</td>\n",
       "      <td>186</td>\n",
       "      <td>nyt://article/69a7090b-9f36-569e-b5ab-b0ba5bb3...</td>\n",
       "      <td>0</td>\n",
       "    </tr>\n",
       "    <tr>\n",
       "      <th>1</th>\n",
       "      <td>Games</td>\n",
       "      <td>Crosswords &amp; Games</td>\n",
       "      <td>Unknown</td>\n",
       "      <td>News</td>\n",
       "      <td>‘It’s Green and Slimy’</td>\n",
       "      <td>Christina Iverson and Jeff Chen ring in the Ne...</td>\n",
       "      <td>['Crossword Puzzles']</td>\n",
       "      <td>931</td>\n",
       "      <td>2020-01-01 03:00:10+00:00</td>\n",
       "      <td>257</td>\n",
       "      <td>nyt://article/9edddb54-0aa3-5835-a833-d311a76f...</td>\n",
       "      <td>0</td>\n",
       "    </tr>\n",
       "    <tr>\n",
       "      <th>2</th>\n",
       "      <td>Science</td>\n",
       "      <td>Science</td>\n",
       "      <td>Unknown</td>\n",
       "      <td>News</td>\n",
       "      <td>Meteor Showers in 2020 That Will Light Up Nigh...</td>\n",
       "      <td>All year long, Earth passes through streams of...</td>\n",
       "      <td>['Meteors and Meteorites', 'Space and Astronom...</td>\n",
       "      <td>1057</td>\n",
       "      <td>2020-01-01 05:00:08+00:00</td>\n",
       "      <td>6</td>\n",
       "      <td>nyt://article/04bc90f0-b20b-511c-b5bb-3ce13194...</td>\n",
       "      <td>0</td>\n",
       "    </tr>\n",
       "    <tr>\n",
       "      <th>3</th>\n",
       "      <td>Science</td>\n",
       "      <td>Science</td>\n",
       "      <td>Unknown</td>\n",
       "      <td>Interactive Feature</td>\n",
       "      <td>Sync your calendar with the solar system</td>\n",
       "      <td>Never miss an eclipse, a meteor shower, a rock...</td>\n",
       "      <td>['Space and Astronomy', 'Moon', 'Eclipses', 'S...</td>\n",
       "      <td>0</td>\n",
       "      <td>2020-01-01 05:00:12+00:00</td>\n",
       "      <td>2</td>\n",
       "      <td>nyt://interactive/5b58d876-9351-50af-9b41-a312...</td>\n",
       "      <td>0</td>\n",
       "    </tr>\n",
       "    <tr>\n",
       "      <th>4</th>\n",
       "      <td>Science</td>\n",
       "      <td>Science</td>\n",
       "      <td>Unknown</td>\n",
       "      <td>News</td>\n",
       "      <td>Rocket Launches, Trips to Mars and More 2020 S...</td>\n",
       "      <td>A year full of highs and lows in space just en...</td>\n",
       "      <td>['Space and Astronomy', 'Private Spaceflight',...</td>\n",
       "      <td>1156</td>\n",
       "      <td>2020-01-01 05:02:38+00:00</td>\n",
       "      <td>25</td>\n",
       "      <td>nyt://article/bd8647b3-8ec6-50aa-95cf-2b81ed12...</td>\n",
       "      <td>0</td>\n",
       "    </tr>\n",
       "  </tbody>\n",
       "</table>\n",
       "</div>"
      ],
      "text/plain": [
       "    newsdesk             section subsection             material  \\\n",
       "0  Editorial             Opinion    Unknown            Editorial   \n",
       "1      Games  Crosswords & Games    Unknown                 News   \n",
       "2    Science             Science    Unknown                 News   \n",
       "3    Science             Science    Unknown  Interactive Feature   \n",
       "4    Science             Science    Unknown                 News   \n",
       "\n",
       "                                            headline  \\\n",
       "0                        Protect Veterans From Fraud   \n",
       "1                             ‘It’s Green and Slimy’   \n",
       "2  Meteor Showers in 2020 That Will Light Up Nigh...   \n",
       "3           Sync your calendar with the solar system   \n",
       "4  Rocket Launches, Trips to Mars and More 2020 S...   \n",
       "\n",
       "                                            abstract  \\\n",
       "0  Congress could do much more to protect America...   \n",
       "1  Christina Iverson and Jeff Chen ring in the Ne...   \n",
       "2  All year long, Earth passes through streams of...   \n",
       "3  Never miss an eclipse, a meteor shower, a rock...   \n",
       "4  A year full of highs and lows in space just en...   \n",
       "\n",
       "                                            keywords  word_count  \\\n",
       "0  ['Veterans', 'For-Profit Schools', 'Financial ...         680   \n",
       "1                              ['Crossword Puzzles']         931   \n",
       "2  ['Meteors and Meteorites', 'Space and Astronom...        1057   \n",
       "3  ['Space and Astronomy', 'Moon', 'Eclipses', 'S...           0   \n",
       "4  ['Space and Astronomy', 'Private Spaceflight',...        1156   \n",
       "\n",
       "                    pub_date  n_comments  \\\n",
       "0  2020-01-01 00:18:54+00:00         186   \n",
       "1  2020-01-01 03:00:10+00:00         257   \n",
       "2  2020-01-01 05:00:08+00:00           6   \n",
       "3  2020-01-01 05:00:12+00:00           2   \n",
       "4  2020-01-01 05:02:38+00:00          25   \n",
       "\n",
       "                                            uniqueID np_array  \n",
       "0  nyt://article/69a7090b-9f36-569e-b5ab-b0ba5bb3...        0  \n",
       "1  nyt://article/9edddb54-0aa3-5835-a833-d311a76f...        0  \n",
       "2  nyt://article/04bc90f0-b20b-511c-b5bb-3ce13194...        0  \n",
       "3  nyt://interactive/5b58d876-9351-50af-9b41-a312...        0  \n",
       "4  nyt://article/bd8647b3-8ec6-50aa-95cf-2b81ed12...        0  "
      ]
     },
     "execution_count": 32,
     "metadata": {},
     "output_type": "execute_result"
    }
   ],
   "source": [
    "df_nyt_articles_2020.head()"
   ]
  },
  {
   "cell_type": "code",
   "execution_count": 33,
   "id": "7e14ca22-24ba-462c-93b1-33480420cfa9",
   "metadata": {
    "tags": []
   },
   "outputs": [],
   "source": [
    "# Save the modified DataFrame to a new CSV file\n",
    "df_nyt_articles_2020.to_csv(\"nyt-articles-2020-modified.csv\", index=False)"
   ]
  },
  {
   "cell_type": "code",
   "execution_count": 45,
   "id": "681d351c-e4de-4c08-a484-47ac2a4c076b",
   "metadata": {
    "tags": []
   },
   "outputs": [],
   "source": [
    "\n",
    "# You can use the head method to get the first 100 records\n",
    "first_100_records = df_nyt_articles_2020.head(100)\n",
    "\n",
    "# Save the first 100 records to a JSON file\n",
    "first_100_records.to_json(\"nyt-articles-2020-modified-100-records.json\", orient=\"records\")\n"
   ]
  },
  {
   "cell_type": "code",
   "execution_count": 41,
   "id": "61ccfdda-10bf-48b2-9ba0-41ec6d034b18",
   "metadata": {
    "tags": []
   },
   "outputs": [
    {
     "name": "stdout",
     "output_type": "stream",
     "text": [
      "Data has been written to nyt_articles_2020.json\n"
     ]
    }
   ],
   "source": [
    "import json\n",
    "\n",
    "# Convert the DataFrame to a list of dictionaries\n",
    "data_as_list_of_dicts = df_nyt_articles_2020.to_dict(orient='records')\n",
    "\n",
    "# Define the output JSON file path\n",
    "output_json_file = 'nyt_articles_2020.json'\n",
    "\n",
    "# Write the list of dictionaries to a JSON file\n",
    "with open(output_json_file, 'w') as json_file:\n",
    "    json.dump(data_as_list_of_dicts, json_file, indent=4)\n",
    "\n",
    "print(f'Data has been written to {output_json_file}')\n"
   ]
  },
  {
   "cell_type": "markdown",
   "id": "131e5e5c-07d5-4c88-b563-080f44487fb2",
   "metadata": {},
   "source": [
    "# Preapare Ads dataset"
   ]
  },
  {
   "cell_type": "code",
   "execution_count": 20,
   "id": "51ad83cc-733c-4555-bc59-8f5627034b76",
   "metadata": {
    "tags": []
   },
   "outputs": [],
   "source": [
    "\n",
    "# Specify the path to your CSV file\n",
    "csv_file_path = \"amazons-advertisements/amazon_combined_scrapped_data.csv\"\n",
    "\n",
    "# Load the CSV file into a DataFrame\n",
    "df_amazon_combined_scrapped_data= pd.read_csv(csv_file_path)"
   ]
  },
  {
   "cell_type": "code",
   "execution_count": 21,
   "id": "08b777c6-67b0-4797-ab3b-2f1b4109d36a",
   "metadata": {
    "tags": []
   },
   "outputs": [
    {
     "data": {
      "text/html": [
       "<div>\n",
       "<style scoped>\n",
       "    .dataframe tbody tr th:only-of-type {\n",
       "        vertical-align: middle;\n",
       "    }\n",
       "\n",
       "    .dataframe tbody tr th {\n",
       "        vertical-align: top;\n",
       "    }\n",
       "\n",
       "    .dataframe thead th {\n",
       "        text-align: right;\n",
       "    }\n",
       "</style>\n",
       "<table border=\"1\" class=\"dataframe\">\n",
       "  <thead>\n",
       "    <tr style=\"text-align: right;\">\n",
       "      <th></th>\n",
       "      <th>ad</th>\n",
       "    </tr>\n",
       "  </thead>\n",
       "  <tbody>\n",
       "    <tr>\n",
       "      <th>0</th>\n",
       "      <td>DL380 Gen10 4112 1P 16G 8LFF S</td>\n",
       "    </tr>\n",
       "    <tr>\n",
       "      <th>1</th>\n",
       "      <td>Мícrоsoft Wíndоws Server Enterprise 2008 R2 SP...</td>\n",
       "    </tr>\n",
       "    <tr>\n",
       "      <th>2</th>\n",
       "      <td>QNAP TS-831XU-4G-US 8-Bay Arm-Based 10G NAS, Q...</td>\n",
       "    </tr>\n",
       "    <tr>\n",
       "      <th>3</th>\n",
       "      <td>HPE RAM Memory - 8GB - DDR4 SDRAM (815097-B21)</td>\n",
       "    </tr>\n",
       "    <tr>\n",
       "      <th>4</th>\n",
       "      <td>SuperMicro SuperServer 5019D-FN8TP - Rack-Moun...</td>\n",
       "    </tr>\n",
       "  </tbody>\n",
       "</table>\n",
       "</div>"
      ],
      "text/plain": [
       "                                                  ad\n",
       "0                     DL380 Gen10 4112 1P 16G 8LFF S\n",
       "1  Мícrоsoft Wíndоws Server Enterprise 2008 R2 SP...\n",
       "2  QNAP TS-831XU-4G-US 8-Bay Arm-Based 10G NAS, Q...\n",
       "3     HPE RAM Memory - 8GB - DDR4 SDRAM (815097-B21)\n",
       "4  SuperMicro SuperServer 5019D-FN8TP - Rack-Moun..."
      ]
     },
     "execution_count": 21,
     "metadata": {},
     "output_type": "execute_result"
    }
   ],
   "source": [
    "df_amazon_combined_scrapped_data.head()"
   ]
  },
  {
   "cell_type": "code",
   "execution_count": 22,
   "id": "7b0b8b3f-8e0d-42ca-b36c-4e95166b54de",
   "metadata": {
    "tags": []
   },
   "outputs": [
    {
     "name": "stdout",
     "output_type": "stream",
     "text": [
      "<class 'pandas.core.frame.DataFrame'>\n",
      "RangeIndex: 2881444 entries, 0 to 2881443\n",
      "Data columns (total 1 columns):\n",
      " #   Column  Dtype \n",
      "---  ------  ----- \n",
      " 0   ad      object\n",
      "dtypes: object(1)\n",
      "memory usage: 22.0+ MB\n"
     ]
    }
   ],
   "source": [
    "df_amazon_combined_scrapped_data.info()"
   ]
  },
  {
   "cell_type": "code",
   "execution_count": 23,
   "id": "a29fcbfb-d2da-4c0b-b8c0-56d72127ba44",
   "metadata": {
    "tags": []
   },
   "outputs": [
    {
     "data": {
      "text/plain": [
       "ad    3\n",
       "dtype: int64"
      ]
     },
     "execution_count": 23,
     "metadata": {},
     "output_type": "execute_result"
    }
   ],
   "source": [
    "# Check for missing data\n",
    "missing_data_ads = df_amazon_combined_scrapped_data.isnull().sum()\n",
    "\n",
    "# Display columns with missing data and their respective counts\n",
    "missing_data_ads.head(10)"
   ]
  },
  {
   "cell_type": "code",
   "execution_count": 25,
   "id": "a8d38914-1d2d-411b-b473-d651308654ad",
   "metadata": {
    "tags": []
   },
   "outputs": [],
   "source": [
    "# Drop rows with missing data\n",
    "df_amazon_combined_scrapped_data.dropna(inplace=True)"
   ]
  },
  {
   "cell_type": "code",
   "execution_count": 26,
   "id": "82eea290-b73d-4286-8f71-b3f6e7c31078",
   "metadata": {
    "tags": []
   },
   "outputs": [
    {
     "data": {
      "text/plain": [
       "ad    0\n",
       "dtype: int64"
      ]
     },
     "execution_count": 26,
     "metadata": {},
     "output_type": "execute_result"
    }
   ],
   "source": [
    "# Check for missing data\n",
    "missing_data_ads = df_amazon_combined_scrapped_data.isnull().sum()\n",
    "\n",
    "# Display columns with missing data and their respective counts\n",
    "missing_data_ads.head(10)"
   ]
  },
  {
   "cell_type": "code",
   "execution_count": 34,
   "id": "6a6a9588-5402-4382-9e4a-7b71b1f3bfda",
   "metadata": {
    "tags": []
   },
   "outputs": [],
   "source": [
    "\n",
    "# Add a new column 'np_array' filled with NumPy arrays of 0s\n",
    "df_amazon_combined_scrapped_data['np_array'] = np.zeros(df_amazon_combined_scrapped_data.shape[0], dtype=object)"
   ]
  },
  {
   "cell_type": "code",
   "execution_count": 35,
   "id": "ec8b4ae5-2c17-4447-aed9-389d05f5224a",
   "metadata": {
    "tags": []
   },
   "outputs": [
    {
     "name": "stdout",
     "output_type": "stream",
     "text": [
      "<class 'pandas.core.frame.DataFrame'>\n",
      "Int64Index: 2881441 entries, 0 to 2881443\n",
      "Data columns (total 2 columns):\n",
      " #   Column    Dtype \n",
      "---  ------    ----- \n",
      " 0   ad        object\n",
      " 1   np_array  object\n",
      "dtypes: object(2)\n",
      "memory usage: 66.0+ MB\n"
     ]
    }
   ],
   "source": [
    "df_amazon_combined_scrapped_data.info()"
   ]
  },
  {
   "cell_type": "code",
   "execution_count": 47,
   "id": "de0ff5fb-715c-4ee4-983b-f7f1b7bb9b7c",
   "metadata": {},
   "outputs": [
    {
     "name": "stdout",
     "output_type": "stream",
     "text": [
      "                                                        ad np_array  \\\n",
      "0                           DL380 Gen10 4112 1P 16G 8LFF S        0   \n",
      "1        Мícrоsoft Wíndоws Server Enterprise 2008 R2 SP...        0   \n",
      "2        QNAP TS-831XU-4G-US 8-Bay Arm-Based 10G NAS, Q...        0   \n",
      "3           HPE RAM Memory - 8GB - DDR4 SDRAM (815097-B21)        0   \n",
      "4        SuperMicro SuperServer 5019D-FN8TP - Rack-Moun...        0   \n",
      "...                                                    ...      ...   \n",
      "2881439        DAKINE Women's Continental Mitt (S - Black)        0   \n",
      "2881440                    Dakine Women's Continental Mitt        0   \n",
      "2881441             Womens Dakine Gilrs Over/Under Luggage        0   \n",
      "2881442       Dakine Gore-Tex Continental Mitten - Women's        0   \n",
      "2881443  DAKINE Women's Continental Gore-Tex Mitt (L - ...        0   \n",
      "\n",
      "                ad_id  \n",
      "0              2023-1  \n",
      "1              2023-2  \n",
      "2              2023-3  \n",
      "3              2023-4  \n",
      "4              2023-5  \n",
      "...               ...  \n",
      "2881439  2023-2881440  \n",
      "2881440  2023-2881441  \n",
      "2881441  2023-2881442  \n",
      "2881442  2023-2881443  \n",
      "2881443  2023-2881444  \n",
      "\n",
      "[2881441 rows x 3 columns]\n"
     ]
    }
   ],
   "source": [
    "\n",
    "# Create a new column \"ad_id\" with unique IDs\n",
    "df_amazon_combined_scrapped_data['ad_id'] = '2023-' + (df_amazon_combined_scrapped_data.index + 1).astype(str)\n",
    "\n",
    "# Display the updated DataFrame\n",
    "print(df_amazon_combined_scrapped_data)\n"
   ]
  },
  {
   "cell_type": "code",
   "execution_count": 61,
   "id": "31eea8ab-98d7-42a1-b3e4-c3e9fe56cf3b",
   "metadata": {
    "tags": []
   },
   "outputs": [
    {
     "data": {
      "text/html": [
       "<div>\n",
       "<style scoped>\n",
       "    .dataframe tbody tr th:only-of-type {\n",
       "        vertical-align: middle;\n",
       "    }\n",
       "\n",
       "    .dataframe tbody tr th {\n",
       "        vertical-align: top;\n",
       "    }\n",
       "\n",
       "    .dataframe thead th {\n",
       "        text-align: right;\n",
       "    }\n",
       "</style>\n",
       "<table border=\"1\" class=\"dataframe\">\n",
       "  <thead>\n",
       "    <tr style=\"text-align: right;\">\n",
       "      <th></th>\n",
       "      <th>ad</th>\n",
       "      <th>np_array</th>\n",
       "      <th>ad_id</th>\n",
       "    </tr>\n",
       "  </thead>\n",
       "  <tbody>\n",
       "    <tr>\n",
       "      <th>0</th>\n",
       "      <td>DL380 Gen10 4112 1P 16G 8LFF S</td>\n",
       "      <td>0</td>\n",
       "      <td>2023-1</td>\n",
       "    </tr>\n",
       "    <tr>\n",
       "      <th>1</th>\n",
       "      <td>Мícrоsoft Wíndоws Server Enterprise 2008 R2 SP...</td>\n",
       "      <td>0</td>\n",
       "      <td>2023-2</td>\n",
       "    </tr>\n",
       "    <tr>\n",
       "      <th>2</th>\n",
       "      <td>QNAP TS-831XU-4G-US 8-Bay Arm-Based 10G NAS, Q...</td>\n",
       "      <td>0</td>\n",
       "      <td>2023-3</td>\n",
       "    </tr>\n",
       "    <tr>\n",
       "      <th>3</th>\n",
       "      <td>HPE RAM Memory - 8GB - DDR4 SDRAM (815097-B21)</td>\n",
       "      <td>0</td>\n",
       "      <td>2023-4</td>\n",
       "    </tr>\n",
       "    <tr>\n",
       "      <th>4</th>\n",
       "      <td>SuperMicro SuperServer 5019D-FN8TP - Rack-Moun...</td>\n",
       "      <td>0</td>\n",
       "      <td>2023-5</td>\n",
       "    </tr>\n",
       "  </tbody>\n",
       "</table>\n",
       "</div>"
      ],
      "text/plain": [
       "                                                  ad np_array   ad_id\n",
       "0                     DL380 Gen10 4112 1P 16G 8LFF S        0  2023-1\n",
       "1  Мícrоsoft Wíndоws Server Enterprise 2008 R2 SP...        0  2023-2\n",
       "2  QNAP TS-831XU-4G-US 8-Bay Arm-Based 10G NAS, Q...        0  2023-3\n",
       "3     HPE RAM Memory - 8GB - DDR4 SDRAM (815097-B21)        0  2023-4\n",
       "4  SuperMicro SuperServer 5019D-FN8TP - Rack-Moun...        0  2023-5"
      ]
     },
     "execution_count": 61,
     "metadata": {},
     "output_type": "execute_result"
    }
   ],
   "source": [
    "df_amazon_combined_scrapped_data.head()"
   ]
  },
  {
   "cell_type": "code",
   "execution_count": 73,
   "id": "6bc46b2a-e9e3-4e45-ace5-b429ab19de3e",
   "metadata": {
    "tags": []
   },
   "outputs": [],
   "source": [
    "# Use the sample method to randomly select 5000 records\n",
    "df_random_sample = df_amazon_combined_scrapped_data.sample(n=5000, random_state=42)"
   ]
  },
  {
   "cell_type": "code",
   "execution_count": 74,
   "id": "fcae7c63-f118-488d-8ec4-e09b546aaace",
   "metadata": {
    "tags": []
   },
   "outputs": [],
   "source": [
    "# Save the randomly 5000 records to a JSON file\n",
    "df_random_sample.to_json(\"amazon_combined_scrapped_data_5k.json\", orient=\"records\")\n"
   ]
  },
  {
   "cell_type": "markdown",
   "id": "e129c5e7-c1b8-4f22-88c3-2db062b93ff1",
   "metadata": {},
   "source": [
    "#### It's a list with 5k ads items, we will use it in notebook practice."
   ]
  },
  {
   "cell_type": "code",
   "execution_count": 58,
   "id": "23645c8a-61a4-46ee-9beb-e32435151825",
   "metadata": {
    "tags": []
   },
   "outputs": [],
   "source": [
    "# Save the modified DataFrame to a new CSV file\n",
    "df_amazon_combined_scrapped_data.to_csv(\"amazon_combined_scrapped_data_modified.csv\", index=False)"
   ]
  },
  {
   "cell_type": "markdown",
   "id": "acea3622-b5d0-480c-93af-19ab94277759",
   "metadata": {},
   "source": [
    "#### It's a full list"
   ]
  },
  {
   "cell_type": "code",
   "execution_count": 59,
   "id": "204c77d7-15f0-446c-825e-7f2c91e100dc",
   "metadata": {
    "tags": []
   },
   "outputs": [
    {
     "name": "stdout",
     "output_type": "stream",
     "text": [
      "Data has been written to amazon_combined_scrapped_data.json\n"
     ]
    }
   ],
   "source": [
    "import json\n",
    "\n",
    "# Convert the DataFrame to a list of dictionaries\n",
    "ads_data_as_list_of_dicts = df_amazon_combined_scrapped_data.to_dict(orient='records')\n",
    "\n",
    "# Define the output JSON file path\n",
    "ads_output_json_file = 'amazon_combined_scrapped_data.json'\n",
    "\n",
    "# Write the list of dictionaries to a JSON file\n",
    "with open(ads_output_json_file, 'w') as json_file:\n",
    "    json.dump(ads_data_as_list_of_dicts, json_file, indent=4)\n",
    "\n",
    "print(f'Data has been written to {ads_output_json_file}')"
   ]
  },
  {
   "cell_type": "code",
   "execution_count": null,
   "id": "5ad96758-f8eb-4635-b3d4-ab48a7471ebd",
   "metadata": {},
   "outputs": [],
   "source": []
  }
 ],
 "metadata": {
  "availableInstances": [
   {
    "_defaultOrder": 0,
    "_isFastLaunch": true,
    "category": "General purpose",
    "gpuNum": 0,
    "hideHardwareSpecs": false,
    "memoryGiB": 4,
    "name": "ml.t3.medium",
    "vcpuNum": 2
   },
   {
    "_defaultOrder": 1,
    "_isFastLaunch": false,
    "category": "General purpose",
    "gpuNum": 0,
    "hideHardwareSpecs": false,
    "memoryGiB": 8,
    "name": "ml.t3.large",
    "vcpuNum": 2
   },
   {
    "_defaultOrder": 2,
    "_isFastLaunch": false,
    "category": "General purpose",
    "gpuNum": 0,
    "hideHardwareSpecs": false,
    "memoryGiB": 16,
    "name": "ml.t3.xlarge",
    "vcpuNum": 4
   },
   {
    "_defaultOrder": 3,
    "_isFastLaunch": false,
    "category": "General purpose",
    "gpuNum": 0,
    "hideHardwareSpecs": false,
    "memoryGiB": 32,
    "name": "ml.t3.2xlarge",
    "vcpuNum": 8
   },
   {
    "_defaultOrder": 4,
    "_isFastLaunch": true,
    "category": "General purpose",
    "gpuNum": 0,
    "hideHardwareSpecs": false,
    "memoryGiB": 8,
    "name": "ml.m5.large",
    "vcpuNum": 2
   },
   {
    "_defaultOrder": 5,
    "_isFastLaunch": false,
    "category": "General purpose",
    "gpuNum": 0,
    "hideHardwareSpecs": false,
    "memoryGiB": 16,
    "name": "ml.m5.xlarge",
    "vcpuNum": 4
   },
   {
    "_defaultOrder": 6,
    "_isFastLaunch": false,
    "category": "General purpose",
    "gpuNum": 0,
    "hideHardwareSpecs": false,
    "memoryGiB": 32,
    "name": "ml.m5.2xlarge",
    "vcpuNum": 8
   },
   {
    "_defaultOrder": 7,
    "_isFastLaunch": false,
    "category": "General purpose",
    "gpuNum": 0,
    "hideHardwareSpecs": false,
    "memoryGiB": 64,
    "name": "ml.m5.4xlarge",
    "vcpuNum": 16
   },
   {
    "_defaultOrder": 8,
    "_isFastLaunch": false,
    "category": "General purpose",
    "gpuNum": 0,
    "hideHardwareSpecs": false,
    "memoryGiB": 128,
    "name": "ml.m5.8xlarge",
    "vcpuNum": 32
   },
   {
    "_defaultOrder": 9,
    "_isFastLaunch": false,
    "category": "General purpose",
    "gpuNum": 0,
    "hideHardwareSpecs": false,
    "memoryGiB": 192,
    "name": "ml.m5.12xlarge",
    "vcpuNum": 48
   },
   {
    "_defaultOrder": 10,
    "_isFastLaunch": false,
    "category": "General purpose",
    "gpuNum": 0,
    "hideHardwareSpecs": false,
    "memoryGiB": 256,
    "name": "ml.m5.16xlarge",
    "vcpuNum": 64
   },
   {
    "_defaultOrder": 11,
    "_isFastLaunch": false,
    "category": "General purpose",
    "gpuNum": 0,
    "hideHardwareSpecs": false,
    "memoryGiB": 384,
    "name": "ml.m5.24xlarge",
    "vcpuNum": 96
   },
   {
    "_defaultOrder": 12,
    "_isFastLaunch": false,
    "category": "General purpose",
    "gpuNum": 0,
    "hideHardwareSpecs": false,
    "memoryGiB": 8,
    "name": "ml.m5d.large",
    "vcpuNum": 2
   },
   {
    "_defaultOrder": 13,
    "_isFastLaunch": false,
    "category": "General purpose",
    "gpuNum": 0,
    "hideHardwareSpecs": false,
    "memoryGiB": 16,
    "name": "ml.m5d.xlarge",
    "vcpuNum": 4
   },
   {
    "_defaultOrder": 14,
    "_isFastLaunch": false,
    "category": "General purpose",
    "gpuNum": 0,
    "hideHardwareSpecs": false,
    "memoryGiB": 32,
    "name": "ml.m5d.2xlarge",
    "vcpuNum": 8
   },
   {
    "_defaultOrder": 15,
    "_isFastLaunch": false,
    "category": "General purpose",
    "gpuNum": 0,
    "hideHardwareSpecs": false,
    "memoryGiB": 64,
    "name": "ml.m5d.4xlarge",
    "vcpuNum": 16
   },
   {
    "_defaultOrder": 16,
    "_isFastLaunch": false,
    "category": "General purpose",
    "gpuNum": 0,
    "hideHardwareSpecs": false,
    "memoryGiB": 128,
    "name": "ml.m5d.8xlarge",
    "vcpuNum": 32
   },
   {
    "_defaultOrder": 17,
    "_isFastLaunch": false,
    "category": "General purpose",
    "gpuNum": 0,
    "hideHardwareSpecs": false,
    "memoryGiB": 192,
    "name": "ml.m5d.12xlarge",
    "vcpuNum": 48
   },
   {
    "_defaultOrder": 18,
    "_isFastLaunch": false,
    "category": "General purpose",
    "gpuNum": 0,
    "hideHardwareSpecs": false,
    "memoryGiB": 256,
    "name": "ml.m5d.16xlarge",
    "vcpuNum": 64
   },
   {
    "_defaultOrder": 19,
    "_isFastLaunch": false,
    "category": "General purpose",
    "gpuNum": 0,
    "hideHardwareSpecs": false,
    "memoryGiB": 384,
    "name": "ml.m5d.24xlarge",
    "vcpuNum": 96
   },
   {
    "_defaultOrder": 20,
    "_isFastLaunch": false,
    "category": "General purpose",
    "gpuNum": 0,
    "hideHardwareSpecs": true,
    "memoryGiB": 0,
    "name": "ml.geospatial.interactive",
    "supportedImageNames": [
     "sagemaker-geospatial-v1-0"
    ],
    "vcpuNum": 0
   },
   {
    "_defaultOrder": 21,
    "_isFastLaunch": true,
    "category": "Compute optimized",
    "gpuNum": 0,
    "hideHardwareSpecs": false,
    "memoryGiB": 4,
    "name": "ml.c5.large",
    "vcpuNum": 2
   },
   {
    "_defaultOrder": 22,
    "_isFastLaunch": false,
    "category": "Compute optimized",
    "gpuNum": 0,
    "hideHardwareSpecs": false,
    "memoryGiB": 8,
    "name": "ml.c5.xlarge",
    "vcpuNum": 4
   },
   {
    "_defaultOrder": 23,
    "_isFastLaunch": false,
    "category": "Compute optimized",
    "gpuNum": 0,
    "hideHardwareSpecs": false,
    "memoryGiB": 16,
    "name": "ml.c5.2xlarge",
    "vcpuNum": 8
   },
   {
    "_defaultOrder": 24,
    "_isFastLaunch": false,
    "category": "Compute optimized",
    "gpuNum": 0,
    "hideHardwareSpecs": false,
    "memoryGiB": 32,
    "name": "ml.c5.4xlarge",
    "vcpuNum": 16
   },
   {
    "_defaultOrder": 25,
    "_isFastLaunch": false,
    "category": "Compute optimized",
    "gpuNum": 0,
    "hideHardwareSpecs": false,
    "memoryGiB": 72,
    "name": "ml.c5.9xlarge",
    "vcpuNum": 36
   },
   {
    "_defaultOrder": 26,
    "_isFastLaunch": false,
    "category": "Compute optimized",
    "gpuNum": 0,
    "hideHardwareSpecs": false,
    "memoryGiB": 96,
    "name": "ml.c5.12xlarge",
    "vcpuNum": 48
   },
   {
    "_defaultOrder": 27,
    "_isFastLaunch": false,
    "category": "Compute optimized",
    "gpuNum": 0,
    "hideHardwareSpecs": false,
    "memoryGiB": 144,
    "name": "ml.c5.18xlarge",
    "vcpuNum": 72
   },
   {
    "_defaultOrder": 28,
    "_isFastLaunch": false,
    "category": "Compute optimized",
    "gpuNum": 0,
    "hideHardwareSpecs": false,
    "memoryGiB": 192,
    "name": "ml.c5.24xlarge",
    "vcpuNum": 96
   },
   {
    "_defaultOrder": 29,
    "_isFastLaunch": true,
    "category": "Accelerated computing",
    "gpuNum": 1,
    "hideHardwareSpecs": false,
    "memoryGiB": 16,
    "name": "ml.g4dn.xlarge",
    "vcpuNum": 4
   },
   {
    "_defaultOrder": 30,
    "_isFastLaunch": false,
    "category": "Accelerated computing",
    "gpuNum": 1,
    "hideHardwareSpecs": false,
    "memoryGiB": 32,
    "name": "ml.g4dn.2xlarge",
    "vcpuNum": 8
   },
   {
    "_defaultOrder": 31,
    "_isFastLaunch": false,
    "category": "Accelerated computing",
    "gpuNum": 1,
    "hideHardwareSpecs": false,
    "memoryGiB": 64,
    "name": "ml.g4dn.4xlarge",
    "vcpuNum": 16
   },
   {
    "_defaultOrder": 32,
    "_isFastLaunch": false,
    "category": "Accelerated computing",
    "gpuNum": 1,
    "hideHardwareSpecs": false,
    "memoryGiB": 128,
    "name": "ml.g4dn.8xlarge",
    "vcpuNum": 32
   },
   {
    "_defaultOrder": 33,
    "_isFastLaunch": false,
    "category": "Accelerated computing",
    "gpuNum": 4,
    "hideHardwareSpecs": false,
    "memoryGiB": 192,
    "name": "ml.g4dn.12xlarge",
    "vcpuNum": 48
   },
   {
    "_defaultOrder": 34,
    "_isFastLaunch": false,
    "category": "Accelerated computing",
    "gpuNum": 1,
    "hideHardwareSpecs": false,
    "memoryGiB": 256,
    "name": "ml.g4dn.16xlarge",
    "vcpuNum": 64
   },
   {
    "_defaultOrder": 35,
    "_isFastLaunch": false,
    "category": "Accelerated computing",
    "gpuNum": 1,
    "hideHardwareSpecs": false,
    "memoryGiB": 61,
    "name": "ml.p3.2xlarge",
    "vcpuNum": 8
   },
   {
    "_defaultOrder": 36,
    "_isFastLaunch": false,
    "category": "Accelerated computing",
    "gpuNum": 4,
    "hideHardwareSpecs": false,
    "memoryGiB": 244,
    "name": "ml.p3.8xlarge",
    "vcpuNum": 32
   },
   {
    "_defaultOrder": 37,
    "_isFastLaunch": false,
    "category": "Accelerated computing",
    "gpuNum": 8,
    "hideHardwareSpecs": false,
    "memoryGiB": 488,
    "name": "ml.p3.16xlarge",
    "vcpuNum": 64
   },
   {
    "_defaultOrder": 38,
    "_isFastLaunch": false,
    "category": "Accelerated computing",
    "gpuNum": 8,
    "hideHardwareSpecs": false,
    "memoryGiB": 768,
    "name": "ml.p3dn.24xlarge",
    "vcpuNum": 96
   },
   {
    "_defaultOrder": 39,
    "_isFastLaunch": false,
    "category": "Memory Optimized",
    "gpuNum": 0,
    "hideHardwareSpecs": false,
    "memoryGiB": 16,
    "name": "ml.r5.large",
    "vcpuNum": 2
   },
   {
    "_defaultOrder": 40,
    "_isFastLaunch": false,
    "category": "Memory Optimized",
    "gpuNum": 0,
    "hideHardwareSpecs": false,
    "memoryGiB": 32,
    "name": "ml.r5.xlarge",
    "vcpuNum": 4
   },
   {
    "_defaultOrder": 41,
    "_isFastLaunch": false,
    "category": "Memory Optimized",
    "gpuNum": 0,
    "hideHardwareSpecs": false,
    "memoryGiB": 64,
    "name": "ml.r5.2xlarge",
    "vcpuNum": 8
   },
   {
    "_defaultOrder": 42,
    "_isFastLaunch": false,
    "category": "Memory Optimized",
    "gpuNum": 0,
    "hideHardwareSpecs": false,
    "memoryGiB": 128,
    "name": "ml.r5.4xlarge",
    "vcpuNum": 16
   },
   {
    "_defaultOrder": 43,
    "_isFastLaunch": false,
    "category": "Memory Optimized",
    "gpuNum": 0,
    "hideHardwareSpecs": false,
    "memoryGiB": 256,
    "name": "ml.r5.8xlarge",
    "vcpuNum": 32
   },
   {
    "_defaultOrder": 44,
    "_isFastLaunch": false,
    "category": "Memory Optimized",
    "gpuNum": 0,
    "hideHardwareSpecs": false,
    "memoryGiB": 384,
    "name": "ml.r5.12xlarge",
    "vcpuNum": 48
   },
   {
    "_defaultOrder": 45,
    "_isFastLaunch": false,
    "category": "Memory Optimized",
    "gpuNum": 0,
    "hideHardwareSpecs": false,
    "memoryGiB": 512,
    "name": "ml.r5.16xlarge",
    "vcpuNum": 64
   },
   {
    "_defaultOrder": 46,
    "_isFastLaunch": false,
    "category": "Memory Optimized",
    "gpuNum": 0,
    "hideHardwareSpecs": false,
    "memoryGiB": 768,
    "name": "ml.r5.24xlarge",
    "vcpuNum": 96
   },
   {
    "_defaultOrder": 47,
    "_isFastLaunch": false,
    "category": "Accelerated computing",
    "gpuNum": 1,
    "hideHardwareSpecs": false,
    "memoryGiB": 16,
    "name": "ml.g5.xlarge",
    "vcpuNum": 4
   },
   {
    "_defaultOrder": 48,
    "_isFastLaunch": false,
    "category": "Accelerated computing",
    "gpuNum": 1,
    "hideHardwareSpecs": false,
    "memoryGiB": 32,
    "name": "ml.g5.2xlarge",
    "vcpuNum": 8
   },
   {
    "_defaultOrder": 49,
    "_isFastLaunch": false,
    "category": "Accelerated computing",
    "gpuNum": 1,
    "hideHardwareSpecs": false,
    "memoryGiB": 64,
    "name": "ml.g5.4xlarge",
    "vcpuNum": 16
   },
   {
    "_defaultOrder": 50,
    "_isFastLaunch": false,
    "category": "Accelerated computing",
    "gpuNum": 1,
    "hideHardwareSpecs": false,
    "memoryGiB": 128,
    "name": "ml.g5.8xlarge",
    "vcpuNum": 32
   },
   {
    "_defaultOrder": 51,
    "_isFastLaunch": false,
    "category": "Accelerated computing",
    "gpuNum": 1,
    "hideHardwareSpecs": false,
    "memoryGiB": 256,
    "name": "ml.g5.16xlarge",
    "vcpuNum": 64
   },
   {
    "_defaultOrder": 52,
    "_isFastLaunch": false,
    "category": "Accelerated computing",
    "gpuNum": 4,
    "hideHardwareSpecs": false,
    "memoryGiB": 192,
    "name": "ml.g5.12xlarge",
    "vcpuNum": 48
   },
   {
    "_defaultOrder": 53,
    "_isFastLaunch": false,
    "category": "Accelerated computing",
    "gpuNum": 4,
    "hideHardwareSpecs": false,
    "memoryGiB": 384,
    "name": "ml.g5.24xlarge",
    "vcpuNum": 96
   },
   {
    "_defaultOrder": 54,
    "_isFastLaunch": false,
    "category": "Accelerated computing",
    "gpuNum": 8,
    "hideHardwareSpecs": false,
    "memoryGiB": 768,
    "name": "ml.g5.48xlarge",
    "vcpuNum": 192
   },
   {
    "_defaultOrder": 55,
    "_isFastLaunch": false,
    "category": "Accelerated computing",
    "gpuNum": 8,
    "hideHardwareSpecs": false,
    "memoryGiB": 1152,
    "name": "ml.p4d.24xlarge",
    "vcpuNum": 96
   },
   {
    "_defaultOrder": 56,
    "_isFastLaunch": false,
    "category": "Accelerated computing",
    "gpuNum": 8,
    "hideHardwareSpecs": false,
    "memoryGiB": 1152,
    "name": "ml.p4de.24xlarge",
    "vcpuNum": 96
   }
  ],
  "instance_type": "ml.m5.large",
  "kernelspec": {
   "display_name": "Python 3 (Data Science 3.0)",
   "language": "python",
   "name": "python3__SAGEMAKER_INTERNAL__arn:aws:sagemaker:us-east-1:081325390199:image/sagemaker-data-science-310-v1"
  },
  "language_info": {
   "codemirror_mode": {
    "name": "ipython",
    "version": 3
   },
   "file_extension": ".py",
   "mimetype": "text/x-python",
   "name": "python",
   "nbconvert_exporter": "python",
   "pygments_lexer": "ipython3",
   "version": "3.10.6"
  }
 },
 "nbformat": 4,
 "nbformat_minor": 5
}
